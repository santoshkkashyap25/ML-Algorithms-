{
 "cells": [
  {
   "cell_type": "markdown",
   "metadata": {},
   "source": [
    "# Neural networks"
   ]
  },
  {
   "cell_type": "code",
   "execution_count": 2,
   "metadata": {},
   "outputs": [
    {
     "name": "stdout",
     "output_type": "stream",
     "text": [
      "[[ 1.29619246 -1.19338286]\n",
      " [ 0.76455807 -2.44539487]\n",
      " [-0.56135339  1.44773498]\n",
      " [ 0.09018381 -0.21892726]\n",
      " [ 3.20977007 -1.03881206]\n",
      " [ 0.80001485 -1.66246266]\n",
      " [ 0.88468364 -0.41310735]\n",
      " [ 1.44727831  0.57410216]\n",
      " [ 0.17890668  1.6394023 ]\n",
      " [-0.58100008  0.33584532]\n",
      " [-0.40007267  2.04119894]\n",
      " [ 0.86736895 -2.33598454]\n",
      " [ 2.57067557 -0.2757088 ]\n",
      " [-0.50604244  0.36615269]\n",
      " [ 0.58326712  1.22009748]\n",
      " [ 2.35993321 -0.12424544]\n",
      " [-0.25023328  0.0491287 ]\n",
      " [ 1.54520785  0.55053486]\n",
      " [-0.12132899 -0.58306026]\n",
      " [ 1.93823769  0.08503077]\n",
      " [ 0.26842648 -0.03321614]\n",
      " [ 1.28259341 -0.6052909 ]\n",
      " [-1.24399007  0.44172354]\n",
      " [-0.33252253 -0.4085363 ]\n",
      " [-0.25906554  2.1460918 ]\n",
      " [-2.04183382  1.62989998]\n",
      " [ 0.75356541  0.74284632]\n",
      " [ 0.74494799 -1.69867877]\n",
      " [-2.08503765  1.69398556]\n",
      " [ 0.64755294  1.35713573]\n",
      " [ 1.36023958 -0.42680268]\n",
      " [-1.20002643  1.52879135]\n",
      " [-1.16926167 -2.94592209]\n",
      " [ 1.50713573  0.49784377]\n",
      " [-0.86717188  0.44292896]\n",
      " [-0.65100851 -0.18139162]\n",
      " [-0.61231169  1.9581328 ]\n",
      " [ 0.76943194 -1.27209495]\n",
      " [ 1.42047213  0.52835339]\n",
      " [ 1.15720441  0.62857476]\n",
      " [ 1.2110195  -0.99340173]\n",
      " [ 1.08891926  1.01427378]\n",
      " [-1.21637928 -0.67049437]\n",
      " [ 0.7540882  -0.59292029]\n",
      " [ 0.65104016 -0.87540635]\n",
      " [ 0.61228622 -0.66760619]\n",
      " [-1.15322318 -0.55930594]\n",
      " [ 0.9751491  -0.07935889]\n",
      " [-0.68752925  2.70557335]\n",
      " [ 1.45467028  0.5305809 ]\n",
      " [-1.02934082  1.61882875]\n",
      " [ 0.73121797  0.78491622]\n",
      " [-0.76836066  2.64536187]\n",
      " [ 1.36803133 -0.42683556]\n",
      " [ 1.5712194  -0.56634981]\n",
      " [-1.17635927 -0.4082274 ]\n",
      " [ 0.04109935  1.09921185]\n",
      " [ 1.02875005  1.09087416]\n",
      " [-2.66474084  2.49277994]\n",
      " [ 0.66721754 -1.10970556]\n",
      " [ 1.41977144 -1.15516349]\n",
      " [ 0.72549452 -0.50767362]\n",
      " [-0.87117928 -0.54828912]\n",
      " [ 1.4248824   0.71838145]\n",
      " [ 0.7897617   0.31888107]\n",
      " [-2.55673111  0.48095735]\n",
      " [-2.06574644  1.18794747]\n",
      " [-2.16875069 -1.45409905]\n",
      " [-1.82761265  1.00873328]\n",
      " [-0.92431911 -3.11057891]\n",
      " [ 0.64138689 -0.83568997]\n",
      " [ 0.60949189  1.31324877]\n",
      " [ 0.87593712 -0.74419114]\n",
      " [-0.71866586 -1.81113273]\n",
      " [-3.10109522  1.89328788]\n",
      " [-1.86364246  0.58521398]\n",
      " [-2.37591355 -1.96095268]\n",
      " [ 1.7770297   0.32045557]\n",
      " [-2.42774861 -0.53244395]\n",
      " [ 2.80187717 -0.52159417]\n",
      " [ 0.94455323 -0.82339639]\n",
      " [-1.36513923  0.70919674]\n",
      " [ 1.0867211  -0.7351246 ]\n",
      " [ 1.36152909  0.5689553 ]\n",
      " [ 0.92367965 -0.61803853]\n",
      " [-0.21235292 -0.34674362]\n",
      " [-1.39689542  3.18322911]\n",
      " [ 0.51446525 -0.26083015]\n",
      " [ 1.74504674  0.24178588]\n",
      " [ 1.1187257   0.37451255]\n",
      " [ 0.68360034  1.05726979]\n",
      " [-0.02464677  0.17999889]\n",
      " [-1.09661596  0.63259348]\n",
      " [-2.59347523 -2.28949135]\n",
      " [-0.278784    0.14422342]\n",
      " [ 0.56662388 -1.17736331]\n",
      " [-1.68605938 -1.1761977 ]\n",
      " [-0.17340918  1.97480402]\n",
      " [ 1.50088126 -1.69179892]\n",
      " [ 0.85639208  1.09821007]]\n",
      "[0 0 1 0 1 0 1 1 1 1 1 0 1 0 1 1 1 1 0 1 1 0 1 0 1 1 1 0 1 1 0 0 0 1 1 0 1\n",
      " 0 1 1 0 1 0 0 0 0 0 0 1 1 1 1 1 0 0 0 1 1 1 0 0 0 0 1 0 1 1 0 1 0 0 1 0 1\n",
      " 1 0 0 1 0 1 0 0 0 1 0 1 1 0 1 0 1 0 0 0 0 0 0 1 0 1]\n"
     ]
    }
   ],
   "source": [
    "from sklearn.datasets import make_classification\n",
    "X, y = make_classification(n_features=2, n_redundant=0, n_informative=2, random_state=3)\n",
    "print(X)\n",
    "print(y)"
   ]
  },
  {
   "cell_type": "code",
   "execution_count": 3,
   "metadata": {},
   "outputs": [],
   "source": [
    "# plotting visually"
   ]
  },
  {
   "cell_type": "code",
   "execution_count": 6,
   "metadata": {},
   "outputs": [
    {
     "data": {
      "image/png": "[encoded data removed]",
      "text/plain": [
       "<Figure size 432x288 with 1 Axes>"
      ]
     },
     "metadata": {
      "needs_background": "light"
     },
     "output_type": "display_data"
    }
   ],
   "source": [
    "from matplotlib import pyplot as plt\n",
    "%matplotlib inline\n",
    "plt.scatter(X[y==0][:, 0], X[y==0][:, 1], s=100, edgecolors='k')\n",
    "plt.scatter(X[y==1][:, 0], X[y==1][:, 1], s=100, edgecolors='k', marker='^')\n",
    "plt.show()"
   ]
  },
  {
   "cell_type": "code",
   "execution_count": 7,
   "metadata": {},
   "outputs": [
    {
     "name": "stderr",
     "output_type": "stream",
     "text": [
      "C:\\Users\\SUNSHINE\\Anaconda3\\lib\\site-packages\\sklearn\\neural_network\\multilayer_perceptron.py:566: ConvergenceWarning: Stochastic Optimizer: Maximum iterations (200) reached and the optimization hasn't converged yet.\n",
      "  % self.max_iter, ConvergenceWarning)\n"
     ]
    },
    {
     "data": {
      "text/plain": [
       "MLPClassifier(activation='relu', alpha=0.0001, batch_size='auto', beta_1=0.9,\n",
       "              beta_2=0.999, early_stopping=False, epsilon=1e-08,\n",
       "              hidden_layer_sizes=(100,), learning_rate='constant',\n",
       "              learning_rate_init=0.001, max_iter=200, momentum=0.9,\n",
       "              n_iter_no_change=10, nesterovs_momentum=True, power_t=0.5,\n",
       "              random_state=None, shuffle=True, solver='adam', tol=0.0001,\n",
       "              validation_fraction=0.1, verbose=False, warm_start=False)"
      ]
     },
     "execution_count": 7,
     "metadata": {},
     "output_type": "execute_result"
    }
   ],
   "source": [
    "#multi layered perceptron (MLP)\n",
    "from sklearn.model_selection import train_test_split\n",
    "from sklearn.neural_network import MLPClassifier\n",
    "from sklearn.datasets import make_classification\n",
    "\n",
    "X, y = make_classification(n_features=2, n_redundant=0, n_informative=2, random_state=3)\n",
    "X_train, X_test, y_train, y_test = train_test_split(X, y, random_state=3)\n",
    "mlp = MLPClassifier()\n",
    "mlp.fit(X_train, y_train)"
   ]
  },
  {
   "cell_type": "markdown",
   "metadata": {},
   "source": [
    "This means that the neural network needs more iterations to converge on the optimal coefficients. The default number of iterations is 200."
   ]
  },
  {
   "cell_type": "code",
   "execution_count": 8,
   "metadata": {},
   "outputs": [
    {
     "name": "stdout",
     "output_type": "stream",
     "text": [
      "accuracy: 0.68\n"
     ]
    }
   ],
   "source": [
    "X_train, X_test, y_train, y_test = train_test_split(X, y, random_state=3)\n",
    "mlp = MLPClassifier(max_iter=1000)\n",
    "mlp.fit(X_train, y_train)\n",
    "print(\"accuracy:\", mlp.score(X_test, y_test))"
   ]
  },
  {
   "cell_type": "code",
   "execution_count": 9,
   "metadata": {},
   "outputs": [],
   "source": [
    "#This will create an MLPCLassifier with two hidden layers, one of 100 nodes and one of 50 nodes"
   ]
  },
  {
   "cell_type": "code",
   "execution_count": 10,
   "metadata": {},
   "outputs": [],
   "source": [
    "# The default value of alpha is 0.0001. Note that decreasing alpha often requires an increase in max_iter."
   ]
  },
  {
   "cell_type": "code",
   "execution_count": 11,
   "metadata": {},
   "outputs": [
    {
     "name": "stdout",
     "output_type": "stream",
     "text": [
      "accuracy: 0.76\n"
     ]
    }
   ],
   "source": [
    "from sklearn.model_selection import train_test_split\n",
    "from sklearn.neural_network import MLPClassifier\n",
    "\n",
    "X_train, X_test, y_train, y_test = train_test_split(X, y, random_state=3)\n",
    "mlp = MLPClassifier(max_iter=1000, hidden_layer_sizes=(100, 50), alpha=0.0001, solver='adam', random_state=3)\n",
    "mlp.fit(X_train, y_train)\n",
    "print(\"accuracy:\", mlp.score(X_test, y_test))"
   ]
  },
  {
   "cell_type": "code",
   "execution_count": null,
   "metadata": {},
   "outputs": [],
   "source": []
  }
 ],
 "metadata": {
  "kernelspec": {
   "display_name": "Python 3",
   "language": "python",
   "name": "python3"
  },
  "language_info": {
   "codemirror_mode": {
    "name": "ipython",
    "version": 3
   },
   "file_extension": ".py",
   "mimetype": "text/x-python",
   "name": "python",
   "nbconvert_exporter": "python",
   "pygments_lexer": "ipython3",
   "version": "3.7.4"
  }
 },
 "nbformat": 4,
 "nbformat_minor": 2
}
